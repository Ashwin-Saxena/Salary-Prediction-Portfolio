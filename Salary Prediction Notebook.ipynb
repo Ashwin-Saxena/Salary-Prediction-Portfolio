{
 "cells": [
  {
   "cell_type": "markdown",
   "metadata": {},
   "source": [
    "# Salary Predictions Based on Job Descriptions"
   ]
  },
  {
   "cell_type": "markdown",
   "metadata": {},
   "source": [
    "# Part 1 - DEFINE"
   ]
  },
  {
   "cell_type": "markdown",
   "metadata": {},
   "source": [
    "### ---- 1 Define the problem ----"
   ]
  },
  {
   "cell_type": "markdown",
   "metadata": {},
   "source": [
    "Make accurate salary preditctions for new job postings that are based on known salaries so the company is able to recruit and retain top talent while controlling payroll expenses."
   ]
  },
  {
   "cell_type": "code",
   "execution_count": 50,
   "metadata": {},
   "outputs": [],
   "source": [
    "# Import libraries\n",
    "import pandas as pd\n",
    "import sklearn as sk\n",
    "import matplotlib.pyplot as plt\n",
    "import numpy as np\n",
    "import seaborn as sns\n",
    "%matplotlib inline\n",
    "\n",
    "# My info \n",
    "__author__ = \"Dominick DiTucci\"\n",
    "__email__ = \"djditucci@gmail.com \""
   ]
  },
  {
   "cell_type": "markdown",
   "metadata": {},
   "source": [
    "## Part 2 - DISCOVER"
   ]
  },
  {
   "cell_type": "markdown",
   "metadata": {},
   "source": [
    "### ---- 2 Load the data ----"
   ]
  },
  {
   "cell_type": "code",
   "execution_count": 30,
   "metadata": {},
   "outputs": [],
   "source": [
    "# Load the data into a Pandas dataframe\n",
    "\n",
    "test_features = '/Users/DJ/Salary-Prediction-Portfolio/data/test_features.csv'\n",
    "train_features = '/Users/DJ/Salary-Prediction-Portfolio/data/train_features.csv'\n",
    "train_salaries = '/Users/DJ/Salary-Prediction-Portfolio/data/train_salaries.csv'\n",
    "\n",
    "test_featuresDF = pd.read_csv(test_features)\n",
    "train_featuresDF = pd.read_csv(train_features)\n",
    "train_salariesDF = pd.read_csv(train_salaries)"
   ]
  },
  {
   "cell_type": "code",
   "execution_count": 31,
   "metadata": {},
   "outputs": [
    {
     "name": "stdout",
     "output_type": "stream",
     "text": [
      "Index(['jobId', 'companyId', 'jobType', 'degree', 'major', 'industry',\n",
      "       'yearsExperience', 'milesFromMetropolis'],\n",
      "      dtype='object')\n",
      "Index(['jobId', 'companyId', 'jobType', 'degree', 'major', 'industry',\n",
      "       'yearsExperience', 'milesFromMetropolis'],\n",
      "      dtype='object')\n",
      "Index(['jobId', 'salary'], dtype='object')\n"
     ]
    }
   ],
   "source": [
    "# View all columns headers\n",
    "print(test_featuresDF.columns)\n",
    "print(train_featuresDF.columns)\n",
    "print(train_salariesDF.columns)"
   ]
  },
  {
   "cell_type": "markdown",
   "metadata": {},
   "source": [
    "### ---- 3 Clean the data ----"
   ]
  },
  {
   "cell_type": "code",
   "execution_count": 32,
   "metadata": {},
   "outputs": [
    {
     "name": "stdout",
     "output_type": "stream",
     "text": [
      "jobId\n",
      "False    1000000\n",
      "Name: jobId, dtype: int64\n",
      "\n",
      "companyId\n",
      "False    1000000\n",
      "Name: companyId, dtype: int64\n",
      "\n",
      "jobType\n",
      "False    1000000\n",
      "Name: jobType, dtype: int64\n",
      "\n",
      "degree\n",
      "False    1000000\n",
      "Name: degree, dtype: int64\n",
      "\n",
      "major\n",
      "False    1000000\n",
      "Name: major, dtype: int64\n",
      "\n",
      "industry\n",
      "False    1000000\n",
      "Name: industry, dtype: int64\n",
      "\n",
      "yearsExperience\n",
      "False    1000000\n",
      "Name: yearsExperience, dtype: int64\n",
      "\n",
      "milesFromMetropolis\n",
      "False    1000000\n",
      "Name: milesFromMetropolis, dtype: int64\n",
      "\n"
     ]
    }
   ],
   "source": [
    "# Look for duplicate data, invalid data (e.g. salaries <=0), or corrupt data and remove it\n",
    "\n",
    "# Check for missing data in test_featuresDF\n",
    "\n",
    "missing_test_featuresDF = test_featuresDF.isnull()\n",
    "\n",
    "for column in missing_test_featuresDF.columns.values.tolist():\n",
    "    print(column)\n",
    "    print(missing_test_featuresDF[column].value_counts())\n",
    "    print(\"\")"
   ]
  },
  {
   "cell_type": "code",
   "execution_count": 33,
   "metadata": {},
   "outputs": [
    {
     "name": "stdout",
     "output_type": "stream",
     "text": [
      "The first 5 rows of test_featuresDF:\n"
     ]
    },
    {
     "data": {
      "text/html": [
       "<div>\n",
       "<style scoped>\n",
       "    .dataframe tbody tr th:only-of-type {\n",
       "        vertical-align: middle;\n",
       "    }\n",
       "\n",
       "    .dataframe tbody tr th {\n",
       "        vertical-align: top;\n",
       "    }\n",
       "\n",
       "    .dataframe thead th {\n",
       "        text-align: right;\n",
       "    }\n",
       "</style>\n",
       "<table border=\"1\" class=\"dataframe\">\n",
       "  <thead>\n",
       "    <tr style=\"text-align: right;\">\n",
       "      <th></th>\n",
       "      <th>jobId</th>\n",
       "      <th>companyId</th>\n",
       "      <th>jobType</th>\n",
       "      <th>degree</th>\n",
       "      <th>major</th>\n",
       "      <th>industry</th>\n",
       "      <th>yearsExperience</th>\n",
       "      <th>milesFromMetropolis</th>\n",
       "    </tr>\n",
       "  </thead>\n",
       "  <tbody>\n",
       "    <tr>\n",
       "      <th>0</th>\n",
       "      <td>JOB1362685407687</td>\n",
       "      <td>COMP33</td>\n",
       "      <td>MANAGER</td>\n",
       "      <td>HIGH_SCHOOL</td>\n",
       "      <td>NONE</td>\n",
       "      <td>HEALTH</td>\n",
       "      <td>22</td>\n",
       "      <td>73</td>\n",
       "    </tr>\n",
       "    <tr>\n",
       "      <th>1</th>\n",
       "      <td>JOB1362685407688</td>\n",
       "      <td>COMP13</td>\n",
       "      <td>JUNIOR</td>\n",
       "      <td>NONE</td>\n",
       "      <td>NONE</td>\n",
       "      <td>AUTO</td>\n",
       "      <td>20</td>\n",
       "      <td>47</td>\n",
       "    </tr>\n",
       "    <tr>\n",
       "      <th>2</th>\n",
       "      <td>JOB1362685407689</td>\n",
       "      <td>COMP10</td>\n",
       "      <td>CTO</td>\n",
       "      <td>MASTERS</td>\n",
       "      <td>BIOLOGY</td>\n",
       "      <td>HEALTH</td>\n",
       "      <td>17</td>\n",
       "      <td>9</td>\n",
       "    </tr>\n",
       "    <tr>\n",
       "      <th>3</th>\n",
       "      <td>JOB1362685407690</td>\n",
       "      <td>COMP21</td>\n",
       "      <td>MANAGER</td>\n",
       "      <td>HIGH_SCHOOL</td>\n",
       "      <td>NONE</td>\n",
       "      <td>OIL</td>\n",
       "      <td>14</td>\n",
       "      <td>96</td>\n",
       "    </tr>\n",
       "    <tr>\n",
       "      <th>4</th>\n",
       "      <td>JOB1362685407691</td>\n",
       "      <td>COMP36</td>\n",
       "      <td>JUNIOR</td>\n",
       "      <td>DOCTORAL</td>\n",
       "      <td>BIOLOGY</td>\n",
       "      <td>OIL</td>\n",
       "      <td>10</td>\n",
       "      <td>44</td>\n",
       "    </tr>\n",
       "  </tbody>\n",
       "</table>\n",
       "</div>"
      ],
      "text/plain": [
       "              jobId companyId  jobType       degree    major industry  \\\n",
       "0  JOB1362685407687    COMP33  MANAGER  HIGH_SCHOOL     NONE   HEALTH   \n",
       "1  JOB1362685407688    COMP13   JUNIOR         NONE     NONE     AUTO   \n",
       "2  JOB1362685407689    COMP10      CTO      MASTERS  BIOLOGY   HEALTH   \n",
       "3  JOB1362685407690    COMP21  MANAGER  HIGH_SCHOOL     NONE      OIL   \n",
       "4  JOB1362685407691    COMP36   JUNIOR     DOCTORAL  BIOLOGY      OIL   \n",
       "\n",
       "   yearsExperience  milesFromMetropolis  \n",
       "0               22                   73  \n",
       "1               20                   47  \n",
       "2               17                    9  \n",
       "3               14                   96  \n",
       "4               10                   44  "
      ]
     },
     "execution_count": 33,
     "metadata": {},
     "output_type": "execute_result"
    }
   ],
   "source": [
    "# Check top 5 rows of test_featuresDF\n",
    "print(\"The first 5 rows of test_featuresDF:\")\n",
    "test_featuresDF.head()"
   ]
  },
  {
   "cell_type": "code",
   "execution_count": 34,
   "metadata": {},
   "outputs": [
    {
     "name": "stdout",
     "output_type": "stream",
     "text": [
      "The shape of test_featuresDF is:  (1000000, 8)\n"
     ]
    }
   ],
   "source": [
    "# Check shape of test_featuresDF\n",
    "print('The shape of test_featuresDF is: ', test_featuresDF.shape)"
   ]
  },
  {
   "cell_type": "code",
   "execution_count": 35,
   "metadata": {},
   "outputs": [
    {
     "name": "stdout",
     "output_type": "stream",
     "text": [
      "jobId\n",
      "False    1000000\n",
      "Name: jobId, dtype: int64\n",
      "\n",
      "companyId\n",
      "False    1000000\n",
      "Name: companyId, dtype: int64\n",
      "\n",
      "jobType\n",
      "False    1000000\n",
      "Name: jobType, dtype: int64\n",
      "\n",
      "degree\n",
      "False    1000000\n",
      "Name: degree, dtype: int64\n",
      "\n",
      "major\n",
      "False    1000000\n",
      "Name: major, dtype: int64\n",
      "\n",
      "industry\n",
      "False    1000000\n",
      "Name: industry, dtype: int64\n",
      "\n",
      "yearsExperience\n",
      "False    1000000\n",
      "Name: yearsExperience, dtype: int64\n",
      "\n",
      "milesFromMetropolis\n",
      "False    1000000\n",
      "Name: milesFromMetropolis, dtype: int64\n",
      "\n"
     ]
    }
   ],
   "source": [
    "# Check for missing data in train_featuresDF\n",
    "\n",
    "missing_train_featuresDF = train_featuresDF.isnull()\n",
    "\n",
    "for column in missing_train_featuresDF.columns.values.tolist():\n",
    "    print(column)\n",
    "    print(missing_train_featuresDF[column].value_counts())\n",
    "    print(\"\")"
   ]
  },
  {
   "cell_type": "code",
   "execution_count": 36,
   "metadata": {},
   "outputs": [
    {
     "name": "stdout",
     "output_type": "stream",
     "text": [
      "The first 5 rows of train_featuresDF:\n"
     ]
    },
    {
     "data": {
      "text/html": [
       "<div>\n",
       "<style scoped>\n",
       "    .dataframe tbody tr th:only-of-type {\n",
       "        vertical-align: middle;\n",
       "    }\n",
       "\n",
       "    .dataframe tbody tr th {\n",
       "        vertical-align: top;\n",
       "    }\n",
       "\n",
       "    .dataframe thead th {\n",
       "        text-align: right;\n",
       "    }\n",
       "</style>\n",
       "<table border=\"1\" class=\"dataframe\">\n",
       "  <thead>\n",
       "    <tr style=\"text-align: right;\">\n",
       "      <th></th>\n",
       "      <th>jobId</th>\n",
       "      <th>companyId</th>\n",
       "      <th>jobType</th>\n",
       "      <th>degree</th>\n",
       "      <th>major</th>\n",
       "      <th>industry</th>\n",
       "      <th>yearsExperience</th>\n",
       "      <th>milesFromMetropolis</th>\n",
       "    </tr>\n",
       "  </thead>\n",
       "  <tbody>\n",
       "    <tr>\n",
       "      <th>0</th>\n",
       "      <td>JOB1362684407687</td>\n",
       "      <td>COMP37</td>\n",
       "      <td>CFO</td>\n",
       "      <td>MASTERS</td>\n",
       "      <td>MATH</td>\n",
       "      <td>HEALTH</td>\n",
       "      <td>10</td>\n",
       "      <td>83</td>\n",
       "    </tr>\n",
       "    <tr>\n",
       "      <th>1</th>\n",
       "      <td>JOB1362684407688</td>\n",
       "      <td>COMP19</td>\n",
       "      <td>CEO</td>\n",
       "      <td>HIGH_SCHOOL</td>\n",
       "      <td>NONE</td>\n",
       "      <td>WEB</td>\n",
       "      <td>3</td>\n",
       "      <td>73</td>\n",
       "    </tr>\n",
       "    <tr>\n",
       "      <th>2</th>\n",
       "      <td>JOB1362684407689</td>\n",
       "      <td>COMP52</td>\n",
       "      <td>VICE_PRESIDENT</td>\n",
       "      <td>DOCTORAL</td>\n",
       "      <td>PHYSICS</td>\n",
       "      <td>HEALTH</td>\n",
       "      <td>10</td>\n",
       "      <td>38</td>\n",
       "    </tr>\n",
       "    <tr>\n",
       "      <th>3</th>\n",
       "      <td>JOB1362684407690</td>\n",
       "      <td>COMP38</td>\n",
       "      <td>MANAGER</td>\n",
       "      <td>DOCTORAL</td>\n",
       "      <td>CHEMISTRY</td>\n",
       "      <td>AUTO</td>\n",
       "      <td>8</td>\n",
       "      <td>17</td>\n",
       "    </tr>\n",
       "    <tr>\n",
       "      <th>4</th>\n",
       "      <td>JOB1362684407691</td>\n",
       "      <td>COMP7</td>\n",
       "      <td>VICE_PRESIDENT</td>\n",
       "      <td>BACHELORS</td>\n",
       "      <td>PHYSICS</td>\n",
       "      <td>FINANCE</td>\n",
       "      <td>8</td>\n",
       "      <td>16</td>\n",
       "    </tr>\n",
       "  </tbody>\n",
       "</table>\n",
       "</div>"
      ],
      "text/plain": [
       "              jobId companyId         jobType       degree      major  \\\n",
       "0  JOB1362684407687    COMP37             CFO      MASTERS       MATH   \n",
       "1  JOB1362684407688    COMP19             CEO  HIGH_SCHOOL       NONE   \n",
       "2  JOB1362684407689    COMP52  VICE_PRESIDENT     DOCTORAL    PHYSICS   \n",
       "3  JOB1362684407690    COMP38         MANAGER     DOCTORAL  CHEMISTRY   \n",
       "4  JOB1362684407691     COMP7  VICE_PRESIDENT    BACHELORS    PHYSICS   \n",
       "\n",
       "  industry  yearsExperience  milesFromMetropolis  \n",
       "0   HEALTH               10                   83  \n",
       "1      WEB                3                   73  \n",
       "2   HEALTH               10                   38  \n",
       "3     AUTO                8                   17  \n",
       "4  FINANCE                8                   16  "
      ]
     },
     "execution_count": 36,
     "metadata": {},
     "output_type": "execute_result"
    }
   ],
   "source": [
    "# Check top 5 rows of train_featuresDF\n",
    "print(\"The first 5 rows of train_featuresDF:\")\n",
    "train_featuresDF.head()\n"
   ]
  },
  {
   "cell_type": "code",
   "execution_count": 37,
   "metadata": {},
   "outputs": [
    {
     "name": "stdout",
     "output_type": "stream",
     "text": [
      "The shape of train_featuresDF is:  (1000000, 8)\n"
     ]
    }
   ],
   "source": [
    "# Check shape of train_featuresDF\n",
    "print('The shape of train_featuresDF is: ', train_featuresDF.shape)"
   ]
  },
  {
   "cell_type": "code",
   "execution_count": 38,
   "metadata": {},
   "outputs": [
    {
     "name": "stdout",
     "output_type": "stream",
     "text": [
      "jobId\n",
      "False    1000000\n",
      "Name: jobId, dtype: int64\n",
      "\n",
      "salary\n",
      "False    1000000\n",
      "Name: salary, dtype: int64\n",
      "\n"
     ]
    }
   ],
   "source": [
    "# Check for missing data in train_salariesDF\n",
    "\n",
    "missing_train_salariesDF = train_salariesDF.isnull()\n",
    "\n",
    "for column in missing_train_salariesDF.columns.values.tolist():\n",
    "    print(column)\n",
    "    print(missing_train_salariesDF[column].value_counts())\n",
    "    print(\"\")"
   ]
  },
  {
   "cell_type": "code",
   "execution_count": 39,
   "metadata": {},
   "outputs": [
    {
     "name": "stdout",
     "output_type": "stream",
     "text": [
      "The shape of train_salariesDF is: (1000000, 2)\n"
     ]
    }
   ],
   "source": [
    "# Check shape of train_salariesDF before deleting values\n",
    "print('The shape of train_salariesDF is:', train_salariesDF.shape)"
   ]
  },
  {
   "cell_type": "code",
   "execution_count": 40,
   "metadata": {},
   "outputs": [
    {
     "name": "stdout",
     "output_type": "stream",
     "text": [
      "The first 5 rows of train_salariesDF:\n"
     ]
    },
    {
     "data": {
      "text/html": [
       "<div>\n",
       "<style scoped>\n",
       "    .dataframe tbody tr th:only-of-type {\n",
       "        vertical-align: middle;\n",
       "    }\n",
       "\n",
       "    .dataframe tbody tr th {\n",
       "        vertical-align: top;\n",
       "    }\n",
       "\n",
       "    .dataframe thead th {\n",
       "        text-align: right;\n",
       "    }\n",
       "</style>\n",
       "<table border=\"1\" class=\"dataframe\">\n",
       "  <thead>\n",
       "    <tr style=\"text-align: right;\">\n",
       "      <th></th>\n",
       "      <th>jobId</th>\n",
       "      <th>salary</th>\n",
       "    </tr>\n",
       "  </thead>\n",
       "  <tbody>\n",
       "    <tr>\n",
       "      <th>0</th>\n",
       "      <td>JOB1362684407687</td>\n",
       "      <td>130</td>\n",
       "    </tr>\n",
       "    <tr>\n",
       "      <th>1</th>\n",
       "      <td>JOB1362684407688</td>\n",
       "      <td>101</td>\n",
       "    </tr>\n",
       "    <tr>\n",
       "      <th>2</th>\n",
       "      <td>JOB1362684407689</td>\n",
       "      <td>137</td>\n",
       "    </tr>\n",
       "    <tr>\n",
       "      <th>3</th>\n",
       "      <td>JOB1362684407690</td>\n",
       "      <td>142</td>\n",
       "    </tr>\n",
       "    <tr>\n",
       "      <th>4</th>\n",
       "      <td>JOB1362684407691</td>\n",
       "      <td>163</td>\n",
       "    </tr>\n",
       "  </tbody>\n",
       "</table>\n",
       "</div>"
      ],
      "text/plain": [
       "              jobId  salary\n",
       "0  JOB1362684407687     130\n",
       "1  JOB1362684407688     101\n",
       "2  JOB1362684407689     137\n",
       "3  JOB1362684407690     142\n",
       "4  JOB1362684407691     163"
      ]
     },
     "execution_count": 40,
     "metadata": {},
     "output_type": "execute_result"
    }
   ],
   "source": [
    "# Check top 5 rows of train_salariesDF\n",
    "print(\"The first 5 rows of train_salariesDF:\")\n",
    "train_salariesDF.head()"
   ]
  },
  {
   "cell_type": "code",
   "execution_count": 41,
   "metadata": {},
   "outputs": [
    {
     "name": "stdout",
     "output_type": "stream",
     "text": [
      "The shape of train_data_merged is: (1000000, 9)\n"
     ]
    }
   ],
   "source": [
    "# train_salariesDF and train__featuresDF have overlapping data, so they can be merged\n",
    "\n",
    "train_data_merged = pd.merge(train_salariesDF, train_featuresDF, on = 'jobId')\n",
    "\n",
    "# Check shape of merged data\n",
    "print(\"The shape of train_data_merged is:\",  train_data_merged.shape)"
   ]
  },
  {
   "cell_type": "code",
   "execution_count": 42,
   "metadata": {},
   "outputs": [
    {
     "data": {
      "text/html": [
       "<div>\n",
       "<style scoped>\n",
       "    .dataframe tbody tr th:only-of-type {\n",
       "        vertical-align: middle;\n",
       "    }\n",
       "\n",
       "    .dataframe tbody tr th {\n",
       "        vertical-align: top;\n",
       "    }\n",
       "\n",
       "    .dataframe thead th {\n",
       "        text-align: right;\n",
       "    }\n",
       "</style>\n",
       "<table border=\"1\" class=\"dataframe\">\n",
       "  <thead>\n",
       "    <tr style=\"text-align: right;\">\n",
       "      <th></th>\n",
       "      <th>jobId</th>\n",
       "      <th>salary</th>\n",
       "    </tr>\n",
       "  </thead>\n",
       "  <tbody>\n",
       "    <tr>\n",
       "      <th>30559</th>\n",
       "      <td>JOB1362684438246</td>\n",
       "      <td>0</td>\n",
       "    </tr>\n",
       "    <tr>\n",
       "      <th>495984</th>\n",
       "      <td>JOB1362684903671</td>\n",
       "      <td>0</td>\n",
       "    </tr>\n",
       "    <tr>\n",
       "      <th>652076</th>\n",
       "      <td>JOB1362685059763</td>\n",
       "      <td>0</td>\n",
       "    </tr>\n",
       "    <tr>\n",
       "      <th>816129</th>\n",
       "      <td>JOB1362685223816</td>\n",
       "      <td>0</td>\n",
       "    </tr>\n",
       "    <tr>\n",
       "      <th>828156</th>\n",
       "      <td>JOB1362685235843</td>\n",
       "      <td>0</td>\n",
       "    </tr>\n",
       "  </tbody>\n",
       "</table>\n",
       "</div>"
      ],
      "text/plain": [
       "                   jobId  salary\n",
       "30559   JOB1362684438246       0\n",
       "495984  JOB1362684903671       0\n",
       "652076  JOB1362685059763       0\n",
       "816129  JOB1362685223816       0\n",
       "828156  JOB1362685235843       0"
      ]
     },
     "execution_count": 42,
     "metadata": {},
     "output_type": "execute_result"
    }
   ],
   "source": [
    "# Check for invalid salaries, show with jobid\n",
    "\n",
    "zero_salary = train_salariesDF['salary']<=0\n",
    "invalid_salary = train_salariesDF[zero_salary]\n",
    "\n",
    "invalid_salary\n"
   ]
  },
  {
   "cell_type": "code",
   "execution_count": 43,
   "metadata": {},
   "outputs": [
    {
     "name": "stdout",
     "output_type": "stream",
     "text": [
      "                   jobId  salary companyId         jobType       degree  \\\n",
      "0       JOB1362684407687     130    COMP37             CFO      MASTERS   \n",
      "1       JOB1362684407688     101    COMP19             CEO  HIGH_SCHOOL   \n",
      "2       JOB1362684407689     137    COMP52  VICE_PRESIDENT     DOCTORAL   \n",
      "3       JOB1362684407690     142    COMP38         MANAGER     DOCTORAL   \n",
      "4       JOB1362684407691     163     COMP7  VICE_PRESIDENT    BACHELORS   \n",
      "5       JOB1362684407692     113    COMP15         MANAGER     DOCTORAL   \n",
      "6       JOB1362684407693     178    COMP15             CFO         NONE   \n",
      "7       JOB1362684407694      73    COMP24          JUNIOR    BACHELORS   \n",
      "8       JOB1362684407695      31    COMP20         JANITOR  HIGH_SCHOOL   \n",
      "9       JOB1362684407696     104    COMP41  VICE_PRESIDENT    BACHELORS   \n",
      "10      JOB1362684407697     102    COMP56         JANITOR  HIGH_SCHOOL   \n",
      "11      JOB1362684407698     144     COMP7             CEO      MASTERS   \n",
      "12      JOB1362684407699      79     COMP4          JUNIOR         NONE   \n",
      "13      JOB1362684407700     193    COMP54          JUNIOR      MASTERS   \n",
      "14      JOB1362684407701      47    COMP57         JANITOR         NONE   \n",
      "15      JOB1362684407702     172    COMP20             CTO      MASTERS   \n",
      "16      JOB1362684407703      47    COMP14          JUNIOR      MASTERS   \n",
      "17      JOB1362684407704     126    COMP61  VICE_PRESIDENT      MASTERS   \n",
      "18      JOB1362684407705     122    COMP58             CEO      MASTERS   \n",
      "19      JOB1362684407706      95     COMP3             CEO      MASTERS   \n",
      "20      JOB1362684407707      32    COMP44         JANITOR         NONE   \n",
      "21      JOB1362684407708      68    COMP20          JUNIOR         NONE   \n",
      "22      JOB1362684407709     105    COMP30          JUNIOR    BACHELORS   \n",
      "23      JOB1362684407710      76    COMP38          JUNIOR         NONE   \n",
      "24      JOB1362684407711     202    COMP20             CEO    BACHELORS   \n",
      "25      JOB1362684407712     131    COMP27             CFO    BACHELORS   \n",
      "26      JOB1362684407713     158    COMP38             CEO    BACHELORS   \n",
      "27      JOB1362684407714     130    COMP34             CTO      MASTERS   \n",
      "28      JOB1362684407715     101    COMP11         JANITOR  HIGH_SCHOOL   \n",
      "29      JOB1362684407716      82    COMP31          SENIOR     DOCTORAL   \n",
      "...                  ...     ...       ...             ...          ...   \n",
      "999970  JOB1362685407657     216    COMP11          SENIOR     DOCTORAL   \n",
      "999971  JOB1362685407658     115    COMP62         MANAGER         NONE   \n",
      "999972  JOB1362685407659      56    COMP33          JUNIOR         NONE   \n",
      "999973  JOB1362685407660     117    COMP58         MANAGER     DOCTORAL   \n",
      "999974  JOB1362685407661     131     COMP7         MANAGER     DOCTORAL   \n",
      "999975  JOB1362685407662      97    COMP45          JUNIOR  HIGH_SCHOOL   \n",
      "999976  JOB1362685407663     112    COMP61  VICE_PRESIDENT      MASTERS   \n",
      "999977  JOB1362685407664     142    COMP28             CFO         NONE   \n",
      "999978  JOB1362685407665      93    COMP53  VICE_PRESIDENT         NONE   \n",
      "999979  JOB1362685407666     181    COMP11             CFO    BACHELORS   \n",
      "999980  JOB1362685407667      84    COMP41             CTO      MASTERS   \n",
      "999981  JOB1362685407668     132    COMP47             CEO      MASTERS   \n",
      "999982  JOB1362685407669     113    COMP41          JUNIOR     DOCTORAL   \n",
      "999983  JOB1362685407670     122    COMP43             CTO      MASTERS   \n",
      "999984  JOB1362685407671     110     COMP1             CTO         NONE   \n",
      "999985  JOB1362685407672     147    COMP62             CEO         NONE   \n",
      "999986  JOB1362685407673     117    COMP22  VICE_PRESIDENT  HIGH_SCHOOL   \n",
      "999987  JOB1362685407674     124    COMP51             CFO      MASTERS   \n",
      "999988  JOB1362685407675      79     COMP6          JUNIOR     DOCTORAL   \n",
      "999989  JOB1362685407676      72     COMP2  VICE_PRESIDENT  HIGH_SCHOOL   \n",
      "999990  JOB1362685407677      89    COMP39         JANITOR  HIGH_SCHOOL   \n",
      "999991  JOB1362685407678     139    COMP22  VICE_PRESIDENT         NONE   \n",
      "999992  JOB1362685407679     143    COMP30         MANAGER     DOCTORAL   \n",
      "999993  JOB1362685407680     136    COMP21             CFO      MASTERS   \n",
      "999994  JOB1362685407681     115    COMP40             CFO    BACHELORS   \n",
      "999995  JOB1362685407682      88    COMP56  VICE_PRESIDENT    BACHELORS   \n",
      "999996  JOB1362685407683     160    COMP24             CTO  HIGH_SCHOOL   \n",
      "999997  JOB1362685407684      64    COMP23          JUNIOR  HIGH_SCHOOL   \n",
      "999998  JOB1362685407685     149     COMP3             CFO      MASTERS   \n",
      "999999  JOB1362685407686      88    COMP59          JUNIOR    BACHELORS   \n",
      "\n",
      "              major   industry  yearsExperience  milesFromMetropolis  \n",
      "0              MATH     HEALTH               10                   83  \n",
      "1              NONE        WEB                3                   73  \n",
      "2           PHYSICS     HEALTH               10                   38  \n",
      "3         CHEMISTRY       AUTO                8                   17  \n",
      "4           PHYSICS    FINANCE                8                   16  \n",
      "5           COMPSCI    FINANCE                2                   31  \n",
      "6              NONE     HEALTH               23                   24  \n",
      "7         CHEMISTRY  EDUCATION                9                   70  \n",
      "8              NONE  EDUCATION                1                   54  \n",
      "9         CHEMISTRY       AUTO               17                   68  \n",
      "10             NONE     HEALTH               24                   30  \n",
      "11          PHYSICS  EDUCATION                7                   79  \n",
      "12             NONE        OIL                8                   29  \n",
      "13             MATH    FINANCE               21                   26  \n",
      "14             NONE       AUTO               21                   81  \n",
      "15          BIOLOGY    SERVICE               13                    8  \n",
      "16          PHYSICS    SERVICE                1                   91  \n",
      "17       LITERATURE    SERVICE               23                   43  \n",
      "18       LITERATURE    SERVICE               23                   66  \n",
      "19          PHYSICS  EDUCATION                9                   99  \n",
      "20             NONE    SERVICE               11                   96  \n",
      "21             NONE       AUTO               14                   62  \n",
      "22       LITERATURE     HEALTH               18                   69  \n",
      "23             NONE     HEALTH               20                   63  \n",
      "24             NONE        WEB               12                    8  \n",
      "25        CHEMISTRY       AUTO                9                   70  \n",
      "26          COMPSCI       AUTO               24                   40  \n",
      "27         BUSINESS       AUTO                9                    6  \n",
      "28             NONE    FINANCE               20                   23  \n",
      "29         BUSINESS  EDUCATION                1                    9  \n",
      "...             ...        ...              ...                  ...  \n",
      "999970         MATH    FINANCE               23                    6  \n",
      "999971         NONE    SERVICE               20                   19  \n",
      "999972         NONE  EDUCATION               23                   84  \n",
      "999973   LITERATURE    SERVICE                3                   51  \n",
      "999974         MATH        WEB                6                   83  \n",
      "999975         NONE        OIL                9                   71  \n",
      "999976   LITERATURE    SERVICE               18                   72  \n",
      "999977         NONE     HEALTH               12                   46  \n",
      "999978         NONE    SERVICE               18                   94  \n",
      "999979  ENGINEERING        WEB               24                   82  \n",
      "999980      BIOLOGY    FINANCE                2                   71  \n",
      "999981      PHYSICS        WEB                2                   13  \n",
      "999982  ENGINEERING       AUTO               24                   49  \n",
      "999983   LITERATURE       AUTO               18                   52  \n",
      "999984         NONE    SERVICE                6                   20  \n",
      "999985         NONE       AUTO                5                   13  \n",
      "999986         NONE       AUTO               17                   14  \n",
      "999987         NONE    FINANCE                1                   99  \n",
      "999988     BUSINESS     HEALTH                4                   70  \n",
      "999989         NONE  EDUCATION               15                   89  \n",
      "999990         NONE  EDUCATION               17                   23  \n",
      "999991         NONE        WEB               22                   48  \n",
      "999992      PHYSICS        WEB               16                   16  \n",
      "999993    CHEMISTRY    SERVICE                4                    6  \n",
      "999994      COMPSCI  EDUCATION               18                   77  \n",
      "999995    CHEMISTRY     HEALTH               19                   94  \n",
      "999996         NONE    FINANCE               12                   35  \n",
      "999997         NONE  EDUCATION               16                   81  \n",
      "999998         NONE     HEALTH                6                    5  \n",
      "999999         NONE  EDUCATION               20                   11  \n",
      "\n",
      "[999995 rows x 9 columns]\n"
     ]
    }
   ],
   "source": [
    "# Remove invalid salaries since there are only 5/1,000,000\n",
    "\n",
    "train_data_merged = train_data_merged.drop(invalid_salary.index.tolist())\n",
    "\n",
    "print(train_data_merged)"
   ]
  },
  {
   "cell_type": "code",
   "execution_count": 44,
   "metadata": {},
   "outputs": [],
   "source": [
    "# Reset index, because we droped 5 rows\n",
    "train_data_merged.reset_index(drop=True, inplace=True)"
   ]
  },
  {
   "cell_type": "code",
   "execution_count": 45,
   "metadata": {},
   "outputs": [
    {
     "data": {
      "text/html": [
       "<div>\n",
       "<style scoped>\n",
       "    .dataframe tbody tr th:only-of-type {\n",
       "        vertical-align: middle;\n",
       "    }\n",
       "\n",
       "    .dataframe tbody tr th {\n",
       "        vertical-align: top;\n",
       "    }\n",
       "\n",
       "    .dataframe thead th {\n",
       "        text-align: right;\n",
       "    }\n",
       "</style>\n",
       "<table border=\"1\" class=\"dataframe\">\n",
       "  <thead>\n",
       "    <tr style=\"text-align: right;\">\n",
       "      <th></th>\n",
       "      <th>jobId</th>\n",
       "      <th>salary</th>\n",
       "      <th>companyId</th>\n",
       "      <th>jobType</th>\n",
       "      <th>degree</th>\n",
       "      <th>major</th>\n",
       "      <th>industry</th>\n",
       "      <th>yearsExperience</th>\n",
       "      <th>milesFromMetropolis</th>\n",
       "    </tr>\n",
       "  </thead>\n",
       "  <tbody>\n",
       "    <tr>\n",
       "      <th>999990</th>\n",
       "      <td>JOB1362685407682</td>\n",
       "      <td>88</td>\n",
       "      <td>COMP56</td>\n",
       "      <td>VICE_PRESIDENT</td>\n",
       "      <td>BACHELORS</td>\n",
       "      <td>CHEMISTRY</td>\n",
       "      <td>HEALTH</td>\n",
       "      <td>19</td>\n",
       "      <td>94</td>\n",
       "    </tr>\n",
       "    <tr>\n",
       "      <th>999991</th>\n",
       "      <td>JOB1362685407683</td>\n",
       "      <td>160</td>\n",
       "      <td>COMP24</td>\n",
       "      <td>CTO</td>\n",
       "      <td>HIGH_SCHOOL</td>\n",
       "      <td>NONE</td>\n",
       "      <td>FINANCE</td>\n",
       "      <td>12</td>\n",
       "      <td>35</td>\n",
       "    </tr>\n",
       "    <tr>\n",
       "      <th>999992</th>\n",
       "      <td>JOB1362685407684</td>\n",
       "      <td>64</td>\n",
       "      <td>COMP23</td>\n",
       "      <td>JUNIOR</td>\n",
       "      <td>HIGH_SCHOOL</td>\n",
       "      <td>NONE</td>\n",
       "      <td>EDUCATION</td>\n",
       "      <td>16</td>\n",
       "      <td>81</td>\n",
       "    </tr>\n",
       "    <tr>\n",
       "      <th>999993</th>\n",
       "      <td>JOB1362685407685</td>\n",
       "      <td>149</td>\n",
       "      <td>COMP3</td>\n",
       "      <td>CFO</td>\n",
       "      <td>MASTERS</td>\n",
       "      <td>NONE</td>\n",
       "      <td>HEALTH</td>\n",
       "      <td>6</td>\n",
       "      <td>5</td>\n",
       "    </tr>\n",
       "    <tr>\n",
       "      <th>999994</th>\n",
       "      <td>JOB1362685407686</td>\n",
       "      <td>88</td>\n",
       "      <td>COMP59</td>\n",
       "      <td>JUNIOR</td>\n",
       "      <td>BACHELORS</td>\n",
       "      <td>NONE</td>\n",
       "      <td>EDUCATION</td>\n",
       "      <td>20</td>\n",
       "      <td>11</td>\n",
       "    </tr>\n",
       "  </tbody>\n",
       "</table>\n",
       "</div>"
      ],
      "text/plain": [
       "                   jobId  salary companyId         jobType       degree  \\\n",
       "999990  JOB1362685407682      88    COMP56  VICE_PRESIDENT    BACHELORS   \n",
       "999991  JOB1362685407683     160    COMP24             CTO  HIGH_SCHOOL   \n",
       "999992  JOB1362685407684      64    COMP23          JUNIOR  HIGH_SCHOOL   \n",
       "999993  JOB1362685407685     149     COMP3             CFO      MASTERS   \n",
       "999994  JOB1362685407686      88    COMP59          JUNIOR    BACHELORS   \n",
       "\n",
       "            major   industry  yearsExperience  milesFromMetropolis  \n",
       "999990  CHEMISTRY     HEALTH               19                   94  \n",
       "999991       NONE    FINANCE               12                   35  \n",
       "999992       NONE  EDUCATION               16                   81  \n",
       "999993       NONE     HEALTH                6                    5  \n",
       "999994       NONE  EDUCATION               20                   11  "
      ]
     },
     "execution_count": 45,
     "metadata": {},
     "output_type": "execute_result"
    }
   ],
   "source": [
    "# Check last 5 rows\n",
    "train_data_merged.tail()"
   ]
  },
  {
   "cell_type": "code",
   "execution_count": 46,
   "metadata": {},
   "outputs": [
    {
     "data": {
      "text/plain": [
       "jobId                  object\n",
       "salary                  int64\n",
       "companyId              object\n",
       "jobType                object\n",
       "degree                 object\n",
       "major                  object\n",
       "industry               object\n",
       "yearsExperience         int64\n",
       "milesFromMetropolis     int64\n",
       "dtype: object"
      ]
     },
     "execution_count": 46,
     "metadata": {},
     "output_type": "execute_result"
    }
   ],
   "source": [
    "# Check data types\n",
    "train_data_merged.dtypes"
   ]
  },
  {
   "cell_type": "markdown",
   "metadata": {},
   "source": [
    "### ---- 4 Explore the data (EDA) ----"
   ]
  },
  {
   "cell_type": "code",
   "execution_count": 47,
   "metadata": {},
   "outputs": [],
   "source": [
    "#summarize each feature variable\n",
    "#summarize the target variable\n",
    "#look for correlation between each feature and the target\n",
    "#look for correlation between features"
   ]
  },
  {
   "cell_type": "code",
   "execution_count": 52,
   "metadata": {},
   "outputs": [
    {
     "data": {
      "text/html": [
       "<div>\n",
       "<style scoped>\n",
       "    .dataframe tbody tr th:only-of-type {\n",
       "        vertical-align: middle;\n",
       "    }\n",
       "\n",
       "    .dataframe tbody tr th {\n",
       "        vertical-align: top;\n",
       "    }\n",
       "\n",
       "    .dataframe thead th {\n",
       "        text-align: right;\n",
       "    }\n",
       "</style>\n",
       "<table border=\"1\" class=\"dataframe\">\n",
       "  <thead>\n",
       "    <tr style=\"text-align: right;\">\n",
       "      <th></th>\n",
       "      <th>salary</th>\n",
       "      <th>yearsExperience</th>\n",
       "      <th>milesFromMetropolis</th>\n",
       "    </tr>\n",
       "  </thead>\n",
       "  <tbody>\n",
       "    <tr>\n",
       "      <th>count</th>\n",
       "      <td>999995.000000</td>\n",
       "      <td>999995.000000</td>\n",
       "      <td>999995.000000</td>\n",
       "    </tr>\n",
       "    <tr>\n",
       "      <th>mean</th>\n",
       "      <td>116.062398</td>\n",
       "      <td>11.992407</td>\n",
       "      <td>49.529381</td>\n",
       "    </tr>\n",
       "    <tr>\n",
       "      <th>std</th>\n",
       "      <td>38.717163</td>\n",
       "      <td>7.212390</td>\n",
       "      <td>28.877721</td>\n",
       "    </tr>\n",
       "    <tr>\n",
       "      <th>min</th>\n",
       "      <td>17.000000</td>\n",
       "      <td>0.000000</td>\n",
       "      <td>0.000000</td>\n",
       "    </tr>\n",
       "    <tr>\n",
       "      <th>25%</th>\n",
       "      <td>88.000000</td>\n",
       "      <td>6.000000</td>\n",
       "      <td>25.000000</td>\n",
       "    </tr>\n",
       "    <tr>\n",
       "      <th>50%</th>\n",
       "      <td>114.000000</td>\n",
       "      <td>12.000000</td>\n",
       "      <td>50.000000</td>\n",
       "    </tr>\n",
       "    <tr>\n",
       "      <th>75%</th>\n",
       "      <td>141.000000</td>\n",
       "      <td>18.000000</td>\n",
       "      <td>75.000000</td>\n",
       "    </tr>\n",
       "    <tr>\n",
       "      <th>max</th>\n",
       "      <td>301.000000</td>\n",
       "      <td>24.000000</td>\n",
       "      <td>99.000000</td>\n",
       "    </tr>\n",
       "  </tbody>\n",
       "</table>\n",
       "</div>"
      ],
      "text/plain": [
       "              salary  yearsExperience  milesFromMetropolis\n",
       "count  999995.000000    999995.000000        999995.000000\n",
       "mean      116.062398        11.992407            49.529381\n",
       "std        38.717163         7.212390            28.877721\n",
       "min        17.000000         0.000000             0.000000\n",
       "25%        88.000000         6.000000            25.000000\n",
       "50%       114.000000        12.000000            50.000000\n",
       "75%       141.000000        18.000000            75.000000\n",
       "max       301.000000        24.000000            99.000000"
      ]
     },
     "execution_count": 52,
     "metadata": {},
     "output_type": "execute_result"
    }
   ],
   "source": [
    "# Summary statistics\n",
    "train_data_merged.describe()"
   ]
  },
  {
   "cell_type": "code",
   "execution_count": 53,
   "metadata": {},
   "outputs": [
    {
     "data": {
      "text/html": [
       "<div>\n",
       "<style scoped>\n",
       "    .dataframe tbody tr th:only-of-type {\n",
       "        vertical-align: middle;\n",
       "    }\n",
       "\n",
       "    .dataframe tbody tr th {\n",
       "        vertical-align: top;\n",
       "    }\n",
       "\n",
       "    .dataframe thead th {\n",
       "        text-align: right;\n",
       "    }\n",
       "</style>\n",
       "<table border=\"1\" class=\"dataframe\">\n",
       "  <thead>\n",
       "    <tr style=\"text-align: right;\">\n",
       "      <th></th>\n",
       "      <th>salary</th>\n",
       "      <th>yearsExperience</th>\n",
       "      <th>milesFromMetropolis</th>\n",
       "    </tr>\n",
       "  </thead>\n",
       "  <tbody>\n",
       "    <tr>\n",
       "      <th>salary</th>\n",
       "      <td>1.000000</td>\n",
       "      <td>0.375013</td>\n",
       "      <td>-0.297686</td>\n",
       "    </tr>\n",
       "    <tr>\n",
       "      <th>yearsExperience</th>\n",
       "      <td>0.375013</td>\n",
       "      <td>1.000000</td>\n",
       "      <td>0.000672</td>\n",
       "    </tr>\n",
       "    <tr>\n",
       "      <th>milesFromMetropolis</th>\n",
       "      <td>-0.297686</td>\n",
       "      <td>0.000672</td>\n",
       "      <td>1.000000</td>\n",
       "    </tr>\n",
       "  </tbody>\n",
       "</table>\n",
       "</div>"
      ],
      "text/plain": [
       "                       salary  yearsExperience  milesFromMetropolis\n",
       "salary               1.000000         0.375013            -0.297686\n",
       "yearsExperience      0.375013         1.000000             0.000672\n",
       "milesFromMetropolis -0.297686         0.000672             1.000000"
      ]
     },
     "execution_count": 53,
     "metadata": {},
     "output_type": "execute_result"
    }
   ],
   "source": [
    "# Check correlation between salary, experience, and distance from metropolis\n",
    "train_data_merged.corr()"
   ]
  },
  {
   "cell_type": "code",
   "execution_count": 57,
   "metadata": {},
   "outputs": [
    {
     "data": {
      "text/plain": [
       "<matplotlib.axes._subplots.AxesSubplot at 0xa25fed780>"
      ]
     },
     "execution_count": 57,
     "metadata": {},
     "output_type": "execute_result"
    },
    {
     "data": {
      "image/png": "[encoded data removed]",
      "text/plain": [
       "<Figure size 432x288 with 1 Axes>"
      ]
     },
     "metadata": {
      "needs_background": "light"
     },
     "output_type": "display_data"
    }
   ],
   "source": [
    "# Years experience as potential predictor of salary\n",
    "sns.regplot(x = 'yearsExperience', y = 'salary', data = train_data_merged, line_kws = {'color': 'red'})"
   ]
  },
  {
   "cell_type": "code",
   "execution_count": 56,
   "metadata": {},
   "outputs": [
    {
     "data": {
      "text/plain": [
       "<matplotlib.axes._subplots.AxesSubplot at 0xa207154e0>"
      ]
     },
     "execution_count": 56,
     "metadata": {},
     "output_type": "execute_result"
    },
    {
     "data": {
      "image/png": "[encoded data removed]",
      "text/plain": [
       "<Figure size 432x288 with 1 Axes>"
      ]
     },
     "metadata": {
      "needs_background": "light"
     },
     "output_type": "display_data"
    }
   ],
   "source": [
    "# Miles from metropolis as potential predictor of salary\n",
    "sns.regplot(x = 'milesFromMetropolis', y = 'salary', data = train_data_merged, line_kws = {'color': 'red'})"
   ]
  },
  {
   "cell_type": "code",
   "execution_count": null,
   "metadata": {},
   "outputs": [],
   "source": []
  },
  {
   "cell_type": "markdown",
   "metadata": {},
   "source": [
    "### ---- 5 Establish a baseline ----"
   ]
  },
  {
   "cell_type": "code",
   "execution_count": 5,
   "metadata": {},
   "outputs": [],
   "source": [
    "#select a reasonable metric (MSE in this case)\n",
    "#create an extremely simple model and measure its efficacy\n",
    "#e.g. use \"average salary\" for each industry as your model and then measure MSE\n",
    "#during 5-fold cross-validation"
   ]
  },
  {
   "cell_type": "markdown",
   "metadata": {},
   "source": [
    "### ---- 6 Hypothesize solution ----"
   ]
  },
  {
   "cell_type": "code",
   "execution_count": null,
   "metadata": {},
   "outputs": [],
   "source": [
    "#brainstorm 3 models that you think may improve results over the baseline model based\n",
    "#on your "
   ]
  },
  {
   "cell_type": "markdown",
   "metadata": {},
   "source": [
    "Brainstorm 3 models that you think may improve results over the baseline model based on your EDA and explain why they're reasonable solutions here.\n",
    "\n",
    "Also write down any new features that you think you should try adding to the model based on your EDA, e.g. interaction variables, summary statistics for each group, etc"
   ]
  },
  {
   "cell_type": "markdown",
   "metadata": {},
   "source": [
    "## Part 3 - DEVELOP"
   ]
  },
  {
   "cell_type": "markdown",
   "metadata": {},
   "source": [
    "You will cycle through creating features, tuning models, and training/validing models (steps 7-9) until you've reached your efficacy goal\n",
    "\n",
    "#### Your metric will be MSE and your goal is:\n",
    " - <360 for entry-level data science roles\n",
    " - <320 for senior data science roles"
   ]
  },
  {
   "cell_type": "markdown",
   "metadata": {},
   "source": [
    "### ---- 7 Engineer features  ----"
   ]
  },
  {
   "cell_type": "code",
   "execution_count": null,
   "metadata": {},
   "outputs": [],
   "source": [
    "#make sure that data is ready for modeling\n",
    "#create any new features needed to potentially enhance model"
   ]
  },
  {
   "cell_type": "markdown",
   "metadata": {},
   "source": [
    "### ---- 8 Create models ----"
   ]
  },
  {
   "cell_type": "code",
   "execution_count": 15,
   "metadata": {},
   "outputs": [],
   "source": [
    "#create and tune the models that you brainstormed during part 2"
   ]
  },
  {
   "cell_type": "markdown",
   "metadata": {},
   "source": [
    "### ---- 9 Test models ----"
   ]
  },
  {
   "cell_type": "code",
   "execution_count": 1,
   "metadata": {},
   "outputs": [],
   "source": [
    "#do 5-fold cross validation on models and measure MSE"
   ]
  },
  {
   "cell_type": "markdown",
   "metadata": {},
   "source": [
    "### ---- 10 Select best model  ----"
   ]
  },
  {
   "cell_type": "code",
   "execution_count": null,
   "metadata": {},
   "outputs": [],
   "source": [
    "#select the model with the lowest error as your \"prodcuction\" model"
   ]
  },
  {
   "cell_type": "markdown",
   "metadata": {},
   "source": [
    "## Part 4 - DEPLOY"
   ]
  },
  {
   "cell_type": "markdown",
   "metadata": {},
   "source": [
    "### ---- 11 Automate pipeline ----"
   ]
  },
  {
   "cell_type": "code",
   "execution_count": null,
   "metadata": {},
   "outputs": [],
   "source": [
    "#write script that trains model on entire training set, saves model to disk,\n",
    "#and scores the \"test\" dataset"
   ]
  },
  {
   "cell_type": "markdown",
   "metadata": {},
   "source": [
    "### ---- 12 Deploy solution ----"
   ]
  },
  {
   "cell_type": "code",
   "execution_count": 16,
   "metadata": {},
   "outputs": [],
   "source": [
    "#save your prediction to a csv file or optionally save them as a table in a SQL database\n",
    "#additionally, you want to save a visualization and summary of your prediction and feature importances\n",
    "#these visualizations and summaries will be extremely useful to business stakeholders"
   ]
  },
  {
   "cell_type": "markdown",
   "metadata": {},
   "source": [
    "### ---- 13 Measure efficacy ----"
   ]
  },
  {
   "cell_type": "markdown",
   "metadata": {},
   "source": [
    "We'll skip this step since we don't have the outcomes for the test data"
   ]
  },
  {
   "cell_type": "code",
   "execution_count": null,
   "metadata": {},
   "outputs": [],
   "source": []
  }
 ],
 "metadata": {
  "kernelspec": {
   "display_name": "Python 3",
   "language": "python",
   "name": "python3"
  },
  "language_info": {
   "codemirror_mode": {
    "name": "ipython",
    "version": 3
   },
   "file_extension": ".py",
   "mimetype": "text/x-python",
   "name": "python",
   "nbconvert_exporter": "python",
   "pygments_lexer": "ipython3",
   "version": "3.7.1"
  }
 },
 "nbformat": 4,
 "nbformat_minor": 2
}
